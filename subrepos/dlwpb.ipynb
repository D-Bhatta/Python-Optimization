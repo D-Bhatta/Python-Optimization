{
  "nbformat": 4,
  "nbformat_minor": 0,
  "metadata": {
    "colab": {
      "name": "dlwpb.ipynb",
      "provenance": []
    },
    "kernelspec": {
      "name": "python3",
      "display_name": "Python 3"
    }
  },
  "cells": [
    {
      "cell_type": "code",
      "metadata": {
        "id": "uXKfwy04nDaz",
        "colab_type": "code",
        "colab": {}
      },
      "source": [
        "!pip install tensorflow\n",
        "!pip install tensorflow-gpu\n",
        "!pip install keras"
      ],
      "execution_count": null,
      "outputs": []
    },
    {
      "cell_type": "code",
      "metadata": {
        "id": "da8zbGlNnY6z",
        "colab_type": "code",
        "colab": {}
      },
      "source": [
        "import tensorflow as tf\n",
        "import matplotlib.pyplot as plt\n",
        "import keras\n",
        "import sklearn as sk\n",
        "import numpy as np\n",
        "import pandas as pd\n",
        "from google.colab import files"
      ],
      "execution_count": 17,
      "outputs": []
    },
    {
      "cell_type": "code",
      "metadata": {
        "id": "6YTJpAs9rgV1",
        "colab_type": "code",
        "colab": {}
      },
      "source": [
        "GPU_USE = False"
      ],
      "execution_count": 19,
      "outputs": []
    },
    {
      "cell_type": "code",
      "metadata": {
        "id": "dStdyX7jndwJ",
        "colab_type": "code",
        "colab": {
          "base_uri": "https://localhost:8080/",
          "height": 102
        },
        "outputId": "7dcae7c8-d9d8-4d33-a5eb-ec2f6a8fc222"
      },
      "source": [
        "print(tf.__version__)\n",
        "print(keras.__version__)\n",
        "print(np.__version__)\n",
        "print(pd.__version__)\n",
        "print(sk.__version__)"
      ],
      "execution_count": 18,
      "outputs": [
        {
          "output_type": "stream",
          "text": [
            "2.2.0\n",
            "2.3.1\n",
            "1.18.5\n",
            "1.0.5\n",
            "0.22.2.post1\n"
          ],
          "name": "stdout"
        }
      ]
    },
    {
      "cell_type": "code",
      "metadata": {
        "id": "MAv6fs2MngQW",
        "colab_type": "code",
        "colab": {}
      },
      "source": [
        "!wget -cq **dataset-file-link**"
      ],
      "execution_count": null,
      "outputs": []
    },
    {
      "cell_type": "code",
      "metadata": {
        "id": "v_62_yZnpTeD",
        "colab_type": "code",
        "colab": {}
      },
      "source": [
        "if GPU_USE:\n",
        "  device_name = tf.test.gpu_device_name()\n",
        "  if device_name != '/device:GPU:0':\n",
        "      raise SystemError(\"GPU device not found\")\n",
        "  print(f'Found GPU at: {device_name}')"
      ],
      "execution_count": 20,
      "outputs": []
    }
  ]
}